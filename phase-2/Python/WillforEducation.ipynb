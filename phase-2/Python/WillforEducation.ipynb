{
 "nbformat": 4,
 "nbformat_minor": 2,
 "metadata": {
  "language_info": {
   "name": "python",
   "codemirror_mode": {
    "name": "ipython",
    "version": 3
   },
   "version": "3.6.9-final"
  },
  "orig_nbformat": 2,
  "file_extension": ".py",
  "mimetype": "text/x-python",
  "name": "python",
  "npconvert_exporter": "python",
  "pygments_lexer": "ipython3",
  "version": 3,
  "kernelspec": {
   "name": "python3",
   "display_name": "Python 3"
  }
 },
 "cells": [
  {
   "cell_type": "code",
   "execution_count": null,
   "metadata": {},
   "outputs": [],
   "source": [
    "import numpy as np\n",
    "import pandas as pd\n",
    "import seaborn as sns\n",
    "import matplotlib.pyplot as plt\n",
    "%matplotlib inline"
   ]
  },
  {
   "cell_type": "code",
   "execution_count": 51,
   "metadata": {},
   "outputs": [
    {
     "name": "stderr",
     "output_type": "stream",
     "text": "/home/galiold/Projects/University/Datamining-Fall2019/FirstPhase/venv/lib/python3.6/site-packages/ipykernel_launcher.py:16: SettingWithCopyWarning: \nA value is trying to be set on a copy of a slice from a DataFrame\n\nSee the caveats in the documentation: http://pandas.pydata.org/pandas-docs/stable/user_guide/indexing.html#returning-a-view-versus-a-copy\n  app.launch_new_instance()\n/home/galiold/Projects/University/Datamining-Fall2019/FirstPhase/venv/lib/python3.6/site-packages/ipykernel_launcher.py:17: SettingWithCopyWarning: \nA value is trying to be set on a copy of a slice from a DataFrame\n\nSee the caveats in the documentation: http://pandas.pydata.org/pandas-docs/stable/user_guide/indexing.html#returning-a-view-versus-a-copy\n/home/galiold/Projects/University/Datamining-Fall2019/FirstPhase/venv/lib/python3.6/site-packages/ipykernel_launcher.py:18: SettingWithCopyWarning: \nA value is trying to be set on a copy of a slice from a DataFrame\n\nSee the caveats in the documentation: http://pandas.pydata.org/pandas-docs/stable/user_guide/indexing.html#returning-a-view-versus-a-copy\n/home/galiold/Projects/University/Datamining-Fall2019/FirstPhase/venv/lib/python3.6/site-packages/ipykernel_launcher.py:21: SettingWithCopyWarning: \nA value is trying to be set on a copy of a slice from a DataFrame\n\nSee the caveats in the documentation: http://pandas.pydata.org/pandas-docs/stable/user_guide/indexing.html#returning-a-view-versus-a-copy\n/home/galiold/Projects/University/Datamining-Fall2019/FirstPhase/venv/lib/python3.6/site-packages/ipykernel_launcher.py:22: SettingWithCopyWarning: \nA value is trying to be set on a copy of a slice from a DataFrame\n\nSee the caveats in the documentation: http://pandas.pydata.org/pandas-docs/stable/user_guide/indexing.html#returning-a-view-versus-a-copy\n/home/galiold/Projects/University/Datamining-Fall2019/FirstPhase/venv/lib/python3.6/site-packages/ipykernel_launcher.py:23: SettingWithCopyWarning: \nA value is trying to be set on a copy of a slice from a DataFrame\n\nSee the caveats in the documentation: http://pandas.pydata.org/pandas-docs/stable/user_guide/indexing.html#returning-a-view-versus-a-copy\n"
    }
   ],
   "source": [
    "df = pd.read_csv('../../Data/SAP.csv')\n",
    "\n",
    "df['gender'] = df['gender'].astype('category').cat.codes\n",
    "df['NationalITy'] = df['NationalITy'].astype('category').cat.codes\n",
    "df['PlaceofBirth'] = df['PlaceofBirth'].astype('category').cat.codes\n",
    "# df['StageID'] = df['StageID'].astype('category').cat.codes\n",
    "df['GradeID'] = df['GradeID'].astype('category').cat.codes\n",
    "df['SectionID'] = df['SectionID'].astype('category').cat.codes\n",
    "df['Topic'] = df['Topic'].astype('category').cat.codes\n",
    "df['Semester'] = df['Semester'].astype('category').cat.codes\n",
    "df['Relation'] = df['Relation'].astype('category').cat.codes\n",
    "df['ParentAnsweringSurvey'] = df['ParentAnsweringSurvey'].astype('category').cat.codes\n",
    "df['ParentschoolSatisfaction'] = df['ParentschoolSatisfaction'].astype('category').cat.codes\n",
    "df['StudentAbsenceDays'] = df['StudentAbsenceDays'].astype('category').cat.codes\n",
    "\n",
    "df[\"StageID\"][df[\"StageID\"] == \"lowerlevel\"] = 0\n",
    "df[\"StageID\"][df[\"StageID\"] == \"MiddleSchool\"] = 1\n",
    "df[\"StageID\"][df[\"StageID\"] == \"HighSchool\"] = 2\n",
    "df['StageID'] = df['StageID'].astype(int)\n",
    "\n",
    "df[\"Class\"][df[\"Class\"] == \"L\"] = 0\n",
    "df[\"Class\"][df[\"Class\"] == \"M\"] = 1\n",
    "df[\"Class\"][df[\"Class\"] == \"H\"] = 2\n",
    "df['Class'] = df['Class'].astype(int)"
   ]
  },
  {
   "cell_type": "code",
   "execution_count": 52,
   "metadata": {},
   "outputs": [],
   "source": [
    "lowerlevel = df[df['StageID'] == 0]\n",
    "middleschool = df[df['StageID'] == 1]\n",
    "highschool = df[df['StageID'] == 2]"
   ]
  },
  {
   "cell_type": "code",
   "execution_count": 53,
   "metadata": {},
   "outputs": [
    {
     "name": "stdout",
     "output_type": "stream",
     "text": "\n============ lowerlevel ============\ngender                     -0.291165\nNationalITy                 0.211520\nPlaceofBirth                0.175560\nStageID                          NaN\nGradeID                    -0.048616\nSectionID                   0.031572\nTopic                       0.023831\nSemester                    0.122519\nRelation                    0.370538\nraisedhands                 0.598308\nVisITedResources            0.657639\nAnnouncementsView           0.493829\nDiscussion                  0.100339\nParentAnsweringSurvey       0.465420\nParentschoolSatisfaction    0.414486\nStudentAbsenceDays          0.706099\nClass                       1.000000\nName: Class, dtype: float64\n\n============ middleschool ============\ngender                     -0.235295\nNationalITy                -0.044650\nPlaceofBirth               -0.029876\nStageID                          NaN\nGradeID                    -0.092557\nSectionID                  -0.060180\nTopic                      -0.209222\nSemester                    0.098926\nRelation                    0.421401\nraisedhands                 0.680900\nVisITedResources            0.696873\nAnnouncementsView           0.533203\nDiscussion                  0.431240\nParentAnsweringSurvey       0.362777\nParentschoolSatisfaction    0.340429\nStudentAbsenceDays          0.631661\nClass                       1.000000\nName: Class, dtype: float64\n\n============ highschool ============\ngender                     -0.374555\nNationalITy                 0.370612\nPlaceofBirth                0.379662\nStageID                          NaN\nGradeID                     0.089120\nSectionID                   0.134178\nTopic                       0.177035\nSemester                    0.270547\nRelation                    0.511992\nraisedhands                 0.730088\nVisITedResources            0.644788\nAnnouncementsView           0.645849\nDiscussion                  0.566243\nParentAnsweringSurvey       0.673570\nParentschoolSatisfaction    0.429155\nStudentAbsenceDays          0.682656\nClass                       1.000000\nName: Class, dtype: float64\n"
    }
   ],
   "source": [
    "print('\\n============ lowerlevel ============')\n",
    "print(lowerlevel[lowerlevel.columns[:]].corr()['Class'][:])\n",
    "\n",
    "print('\\n============ middleschool ============')\n",
    "print(middleschool[middleschool.columns[:]].corr()['Class'][:])\n",
    "\n",
    "print('\\n============ highschool ============')\n",
    "print(highschool[highschool.columns[:]].corr()['Class'][:])"
   ]
  }
 ]
}