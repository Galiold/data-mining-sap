{
 "cells": [
  {
   "cell_type": "code",
   "execution_count": 131,
   "metadata": {},
   "outputs": [],
   "source": [
    "from sklearn.preprocessing import StandardScaler\n",
    "from sklearn.metrics import accuracy_score\n",
    "from sklearn.metrics import f1_score\n",
    "from sklearn.metrics import classification_report\n",
    "import pandas as pd\n",
    "import numpy as np\n",
    "import seaborn as sns\n",
    "import matplotlib.pyplot as plt\n",
    "\n",
    "from sklearn.svm import SVC\n",
    "from sklearn.tree import DecisionTreeRegressor\n",
    "from sklearn.linear_model import LinearRegression, Lasso\n",
    "from sklearn.ensemble import RandomForestClassifier, AdaBoostClassifier, ExtraTreesClassifier\n",
    "from sklearn.tree import DecisionTreeClassifier, ExtraTreeClassifier\n",
    "from sklearn.linear_model import LogisticRegression\n",
    "from sklearn.naive_bayes import GaussianNB, BernoulliNB\n",
    "from sklearn.neighbors import KNeighborsClassifier\n",
    "from sklearn.model_selection import train_test_split\n",
    "from sklearn.model_selection import cross_val_score"
   ]
  },
  {
   "cell_type": "code",
   "execution_count": 52,
   "metadata": {},
   "outputs": [],
   "source": [
    "data = pd.read_csv('../../Data/SAP_numeric.csv')\n",
    "data.head()\n",
    "\n",
    "# Y = data['Class'].values\n",
    "# data2 = data.drop(['Class'],axis=1)\n",
    "# x = data2.values\n",
    "\n",
    "x, Y = data.drop('Class', axis=1), np.asarray(data['Class'])\n",
    "Xtrain, Xtest, ytrain, ytest = train_test_split(x, Y, test_size=0.20)"
   ]
  },
  {
   "cell_type": "code",
   "execution_count": 36,
   "metadata": {},
   "outputs": [],
   "source": [
    "classifiers = [('KNeighborsClassifier', KNeighborsClassifier(n_jobs=-1)),\n",
    "               ('GaussianNB', GaussianNB()),\n",
    "               ('BernoulliNB', BernoulliNB())\n",
    "              ]\n",
    "\n",
    "allscores = []\n"
   ]
  },
  {
   "cell_type": "code",
   "execution_count": 134,
   "metadata": {},
   "outputs": [
    {
     "name": "stdout",
     "output_type": "stream",
     "text": [
      "BernoulliNB Mean accuracy 0.71 and mean f1_score 0.71 after 20 Iteration\n",
      "\n",
      "GaussianNB Mean accuracy 0.72 and mean f1_score 0.73 after 20 Iteration\n",
      "\n",
      "DecisionTreeClassifier Mean accuracy 0.70 and mean f1_score 0.71 after 20 Iteration\n",
      "\n",
      "AdaBoostClassifier Mean accuracy 0.69 and mean f1_score 0.70 after 20 Iteration\n",
      "\n"
     ]
    },
    {
     "data": {
      "text/plain": [
       "[None, None, None, None, None, None, None, None]"
      ]
     },
     "execution_count": 134,
     "metadata": {},
     "output_type": "execute_result"
    },
    {
     "data": {
      "text/plain": [
       "<Figure size 1080x720 with 0 Axes>"
      ]
     },
     "metadata": {},
     "output_type": "display_data"
    },
    {
     "data": {
      "image/png": "[encoded data removed]",
      "text/plain": [
       "<Figure size 720x720 with 1 Axes>"
      ]
     },
     "metadata": {
      "needs_background": "light"
     },
     "output_type": "display_data"
    }
   ],
   "source": [
    "data = pd.read_csv('../../Data/SAP_numeric.csv')\n",
    "data.head()\n",
    "\n",
    "classifiers = [('BernoulliNB', BernoulliNB()), \n",
    "               ('GaussianNB', GaussianNB()),\n",
    "               ('DecisionTreeClassifier', DecisionTreeClassifier()),\n",
    "               ('AdaBoostClassifier', AdaBoostClassifier())\n",
    "              ]\n",
    "\n",
    "allscores = []\n",
    "\n",
    "for name, classifier in classifiers:\n",
    "    accuracy=  0.0\n",
    "    f1_total = np.array([])\n",
    "    scores = np.array([])\n",
    "    for i in range(20):\n",
    "        x, Y = data.drop('Class', axis=1), np.asarray(data['Class'])\n",
    "        Xtrain, Xtest, ytrain, ytest = train_test_split(x, Y, test_size=0.30)\n",
    "\n",
    "        scaler = StandardScaler()\n",
    "        Xtrain_scaled = scaler.fit_transform(Xtrain)\n",
    "        Xtest_scaled = scaler.transform(Xtest)\n",
    "        #Calculate the class prior probabilities for each continent\n",
    "        classifier.fit(Xtrain_scaled, ytrain)\n",
    "        #Make a prediction for the test data\n",
    "        ypred = classifier.predict(Xtest_scaled)\n",
    "        #Calculate the accuracy of the data\n",
    "        scores = np.append(scores, accuracy_score(ytest, ypred))\n",
    "        accuracy = accuracy + accuracy_score(ytest, ypred)\n",
    "        f1_total = np.append(f1_total, np.average(f1_score(ytest, ypred, average=None)))\n",
    "\n",
    "    new_data = [(name, score) for score in scores]\n",
    "    allscores.extend(new_data)\n",
    "    accuracy_avg = accuracy / 20\n",
    "    f1_avg = np.average(f1_total)\n",
    "    print(name+\" Mean accuracy %.2f and mean f1_score %.2f after 20 Iteration\\n\" % (accuracy_avg, f1_avg))\n",
    "    \n",
    "temp = pd.DataFrame(allscores, columns=['classifier', 'score'])\n",
    "#sns.violinplot('classifier', 'score', data=temp, inner=None, linewidth=0.3)\n",
    "plt.figure(figsize=(15,10))\n",
    "sns.catplot(x='classifier', \n",
    "               y=\"score\",\n",
    "               data=temp, \n",
    "               saturation=1, \n",
    "               kind=\"box\", \n",
    "               ci=None, \n",
    "               aspect=1, \n",
    "               linewidth=1, \n",
    "               height = 10)     \n",
    "locs, labels = plt.xticks()\n",
    "plt.setp(labels, rotation=90)"
   ]
  },
  {
   "cell_type": "code",
   "execution_count": 123,
   "metadata": {},
   "outputs": [
    {
     "name": "stdout",
     "output_type": "stream",
     "text": [
      "Misclassified samples: 39\n",
      "Accuracy: 0.73\n",
      "              precision    recall  f1-score   support\n",
      "\n",
      "           1       0.71      0.74      0.73        47\n",
      "           2       0.91      0.73      0.81        41\n",
      "           3       0.65      0.71      0.68        56\n",
      "\n",
      "    accuracy                           0.73       144\n",
      "   macro avg       0.76      0.73      0.74       144\n",
      "weighted avg       0.74      0.73      0.73       144\n",
      "\n"
     ]
    }
   ],
   "source": [
    "svm = SVC(kernel='linear', C=2.0, random_state=0)\n",
    "svm.fit(Xtrain, ytrain)\n",
    "\n",
    "ypred = svm.predict(Xtest)\n",
    "print('Misclassified samples: %d' % (ytest != ypred).sum())\n",
    "print('Accuracy: %.2f' % accuracy_score(ytest, ypred))\n",
    "print(classification_report(ytest, ypred))"
   ]
  },
  {
   "cell_type": "code",
   "execution_count": 124,
   "metadata": {},
   "outputs": [],
   "source": []
  },
  {
   "cell_type": "code",
   "execution_count": null,
   "metadata": {},
   "outputs": [],
   "source": []
  }
 ],
 "metadata": {
  "kernelspec": {
   "display_name": "Python 3",
   "language": "python",
   "name": "python3"
  },
  "language_info": {
   "codemirror_mode": {
    "name": "ipython",
    "version": 3
   },
   "file_extension": ".py",
   "mimetype": "text/x-python",
   "name": "python",
   "nbconvert_exporter": "python",
   "pygments_lexer": "ipython3",
   "version": "3.6.9"
  }
 },
 "nbformat": 4,
 "nbformat_minor": 2
}
